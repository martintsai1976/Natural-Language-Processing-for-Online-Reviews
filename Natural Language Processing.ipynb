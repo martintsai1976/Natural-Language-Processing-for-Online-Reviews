{
 "cells": [
  {
   "cell_type": "code",
   "execution_count": 1,
   "metadata": {},
   "outputs": [
    {
     "name": "stdout",
     "output_type": "stream",
     "text": [
      "Done\n"
     ]
    }
   ],
   "source": [
    "import re\n",
    "import matplotlib.pyplot as plt\n",
    "import string\n",
    "from nltk.corpus import stopwords\n",
    "import nltk\n",
    "from nltk.corpus import wordnet\n",
    "from nltk.stem import WordNetLemmatizer\n",
    "from nltk.tokenize.treebank import TreebankWordDetokenizer\n",
    "from collections import Counter\n",
    "from wordcloud import WordCloud\n",
    "from nltk.corpus import stopwords\n",
    "import nltk\n",
    "from gensim.utils import simple_preprocess\n",
    "from nltk.corpus import stopwords\n",
    "import gensim\n",
    "from sklearn.model_selection import train_test_split\n",
    "import spacy\n",
    "import pickle\n",
    "import warnings\n",
    "warnings.filterwarnings('ignore')\n",
    "import seaborn as sns\n",
    "from sklearn.metrics import confusion_matrix\n",
    "import matplotlib.pyplot as plt \n",
    "import tensorflow as tf\n",
    "import keras\n",
    "import numpy as np\n",
    "import pandas as pd\n",
    "\n",
    "from nltk.tokenize import sent_tokenize, word_tokenize\n",
    "from nltk.stem.porter import PorterStemmer\n",
    "st = PorterStemmer()\n",
    "\n",
    "print('Done')"
   ]
  },
  {
   "cell_type": "code",
   "execution_count": 2,
   "metadata": {},
   "outputs": [],
   "source": [
    "pd.set_option('display.max_colwidth', None)\n",
    "\n",
    "rv = pd.read_csv('product_reviews.csv')\n",
    "rv = rv.head(8)\n",
    "rv = rv.tail(1)"
   ]
  },
  {
   "cell_type": "markdown",
   "metadata": {},
   "source": [
    "# Break each review into sentences"
   ]
  },
  {
   "cell_type": "code",
   "execution_count": 3,
   "metadata": {},
   "outputs": [],
   "source": [
    "# Break review into sentences\n",
    "from nltk.tokenize import sent_tokenize\n",
    "st = []\n",
    "for sentence in rv.content:\n",
    "    sent_tokenize(sentence)\n",
    "    st.append(sent_tokenize(sentence))"
   ]
  },
  {
   "cell_type": "code",
   "execution_count": 4,
   "metadata": {},
   "outputs": [
    {
     "data": {
      "text/html": [
       "<div>\n",
       "<style scoped>\n",
       "    .dataframe tbody tr th:only-of-type {\n",
       "        vertical-align: middle;\n",
       "    }\n",
       "\n",
       "    .dataframe tbody tr th {\n",
       "        vertical-align: top;\n",
       "    }\n",
       "\n",
       "    .dataframe thead th {\n",
       "        text-align: right;\n",
       "    }\n",
       "</style>\n",
       "<table border=\"1\" class=\"dataframe\">\n",
       "  <thead>\n",
       "    <tr style=\"text-align: right;\">\n",
       "      <th></th>\n",
       "      <th>Unnamed: 0</th>\n",
       "      <th>cluster</th>\n",
       "      <th>product_name</th>\n",
       "      <th>price</th>\n",
       "      <th>rating</th>\n",
       "      <th>content</th>\n",
       "      <th>raw_sentence</th>\n",
       "    </tr>\n",
       "  </thead>\n",
       "  <tbody>\n",
       "    <tr>\n",
       "      <th>7</th>\n",
       "      <td>81357</td>\n",
       "      <td>3</td>\n",
       "      <td>JLab Audio Crasher Micro Wireless Bluetooth Speaker | Bluetooth 2.1 | 10 Hour Battery Life | Water Resistant &amp; Dust Resistant | USB Charging | Blue</td>\n",
       "      <td>9.99</td>\n",
       "      <td>5</td>\n",
       "      <td>I've tried a few of these portable bluetooth speakers.  This one is the most portable,  easiest to pair up, and the loudest for its size.  Also it holds a charge for a good long time.</td>\n",
       "      <td>[I've tried a few of these portable bluetooth speakers., This one is the most portable,  easiest to pair up, and the loudest for its size., Also it holds a charge for a good long time.]</td>\n",
       "    </tr>\n",
       "  </tbody>\n",
       "</table>\n",
       "</div>"
      ],
      "text/plain": [
       "   Unnamed: 0  cluster  \\\n",
       "7       81357        3   \n",
       "\n",
       "                                                                                                                                          product_name  \\\n",
       "7  JLab Audio Crasher Micro Wireless Bluetooth Speaker | Bluetooth 2.1 | 10 Hour Battery Life | Water Resistant & Dust Resistant | USB Charging | Blue   \n",
       "\n",
       "   price  rating  \\\n",
       "7   9.99       5   \n",
       "\n",
       "                                                                                                                                                                                   content  \\\n",
       "7  I've tried a few of these portable bluetooth speakers.  This one is the most portable,  easiest to pair up, and the loudest for its size.  Also it holds a charge for a good long time.   \n",
       "\n",
       "                                                                                                                                                                                raw_sentence  \n",
       "7  [I've tried a few of these portable bluetooth speakers., This one is the most portable,  easiest to pair up, and the loudest for its size., Also it holds a charge for a good long time.]  "
      ]
     },
     "execution_count": 4,
     "metadata": {},
     "output_type": "execute_result"
    }
   ],
   "source": [
    "rv['raw_sentence'] = st\n",
    "rv.head(3)"
   ]
  },
  {
   "cell_type": "code",
   "execution_count": 5,
   "metadata": {},
   "outputs": [
    {
     "data": {
      "text/html": [
       "<div>\n",
       "<style scoped>\n",
       "    .dataframe tbody tr th:only-of-type {\n",
       "        vertical-align: middle;\n",
       "    }\n",
       "\n",
       "    .dataframe tbody tr th {\n",
       "        vertical-align: top;\n",
       "    }\n",
       "\n",
       "    .dataframe thead th {\n",
       "        text-align: right;\n",
       "    }\n",
       "</style>\n",
       "<table border=\"1\" class=\"dataframe\">\n",
       "  <thead>\n",
       "    <tr style=\"text-align: right;\">\n",
       "      <th></th>\n",
       "      <th>cluster</th>\n",
       "      <th>product_name</th>\n",
       "      <th>price</th>\n",
       "      <th>raw_sentence</th>\n",
       "    </tr>\n",
       "  </thead>\n",
       "  <tbody>\n",
       "    <tr>\n",
       "      <th>7</th>\n",
       "      <td>3</td>\n",
       "      <td>JLab Audio Crasher Micro Wireless Bluetooth Speaker | Bluetooth 2.1 | 10 Hour Battery Life | Water Resistant &amp; Dust Resistant | USB Charging | Blue</td>\n",
       "      <td>9.99</td>\n",
       "      <td>[I've tried a few of these portable bluetooth speakers., This one is the most portable,  easiest to pair up, and the loudest for its size., Also it holds a charge for a good long time.]</td>\n",
       "    </tr>\n",
       "  </tbody>\n",
       "</table>\n",
       "</div>"
      ],
      "text/plain": [
       "   cluster  \\\n",
       "7        3   \n",
       "\n",
       "                                                                                                                                          product_name  \\\n",
       "7  JLab Audio Crasher Micro Wireless Bluetooth Speaker | Bluetooth 2.1 | 10 Hour Battery Life | Water Resistant & Dust Resistant | USB Charging | Blue   \n",
       "\n",
       "   price  \\\n",
       "7   9.99   \n",
       "\n",
       "                                                                                                                                                                                raw_sentence  \n",
       "7  [I've tried a few of these portable bluetooth speakers., This one is the most portable,  easiest to pair up, and the loudest for its size., Also it holds a charge for a good long time.]  "
      ]
     },
     "execution_count": 5,
     "metadata": {},
     "output_type": "execute_result"
    }
   ],
   "source": [
    "rv1 = rv[['cluster', 'product_name', 'price', 'raw_sentence']]\n",
    "rv1.head(3)"
   ]
  },
  {
   "cell_type": "code",
   "execution_count": 6,
   "metadata": {},
   "outputs": [],
   "source": [
    "def explode(df, lst_cols, fill_value='', preserve_index=False):\n",
    "    # make sure `lst_cols` is list-alike\n",
    "    if (lst_cols is not None\n",
    "        and len(lst_cols) > 0):\n",
    "        lst_cols = [lst_cols]\n",
    "    # all columns except `lst_cols`\n",
    "    idx_cols = df.columns.difference(lst_cols)\n",
    "    # calculate lengths of lists\n",
    "    lens = df[lst_cols[0]].str.len()\n",
    "    # preserve original index values    \n",
    "    idx = np.repeat(df.index.values, lens)\n",
    "    # create \"exploded\" DF\n",
    "    res = (pd.DataFrame({\n",
    "                col:np.repeat(df[col].values, lens)\n",
    "                for col in idx_cols},\n",
    "                index=idx)\n",
    "             .assign(**{col:np.concatenate(df.loc[lens>0, col].values)\n",
    "                            for col in lst_cols}))\n",
    "    # append those rows that have empty lists\n",
    "    if (lens == 0).any():\n",
    "        # at least one list in cells is empty\n",
    "        res = (res.append(df.loc[lens==0, idx_cols], sort=False)\n",
    "                  .fillna(fill_value))\n",
    "    # revert the original index order\n",
    "    res = res.sort_index()\n",
    "    # reset index if requested\n",
    "    if not preserve_index:        \n",
    "        res = res.reset_index(drop=True)\n",
    "    return res"
   ]
  },
  {
   "cell_type": "code",
   "execution_count": 7,
   "metadata": {},
   "outputs": [],
   "source": [
    "# Create rows for each sentence\n",
    "rv2 = explode(rv1, 'raw_sentence', fill_value='')"
   ]
  },
  {
   "cell_type": "code",
   "execution_count": 8,
   "metadata": {},
   "outputs": [
    {
     "data": {
      "text/html": [
       "<div>\n",
       "<style scoped>\n",
       "    .dataframe tbody tr th:only-of-type {\n",
       "        vertical-align: middle;\n",
       "    }\n",
       "\n",
       "    .dataframe tbody tr th {\n",
       "        vertical-align: top;\n",
       "    }\n",
       "\n",
       "    .dataframe thead th {\n",
       "        text-align: right;\n",
       "    }\n",
       "</style>\n",
       "<table border=\"1\" class=\"dataframe\">\n",
       "  <thead>\n",
       "    <tr style=\"text-align: right;\">\n",
       "      <th></th>\n",
       "      <th>cluster</th>\n",
       "      <th>price</th>\n",
       "      <th>product_name</th>\n",
       "      <th>sentence</th>\n",
       "    </tr>\n",
       "  </thead>\n",
       "  <tbody>\n",
       "    <tr>\n",
       "      <th>0</th>\n",
       "      <td>3</td>\n",
       "      <td>9.99</td>\n",
       "      <td>JLab Audio Crasher Micro Wireless Bluetooth Speaker | Bluetooth 2.1 | 10 Hour Battery Life | Water Resistant &amp; Dust Resistant | USB Charging | Blue</td>\n",
       "      <td>i've tried a few of these portable bluetooth speakers.</td>\n",
       "    </tr>\n",
       "    <tr>\n",
       "      <th>1</th>\n",
       "      <td>3</td>\n",
       "      <td>9.99</td>\n",
       "      <td>JLab Audio Crasher Micro Wireless Bluetooth Speaker | Bluetooth 2.1 | 10 Hour Battery Life | Water Resistant &amp; Dust Resistant | USB Charging | Blue</td>\n",
       "      <td>this one is the most portable,  easiest to pair up, and the loudest for its size.</td>\n",
       "    </tr>\n",
       "    <tr>\n",
       "      <th>2</th>\n",
       "      <td>3</td>\n",
       "      <td>9.99</td>\n",
       "      <td>JLab Audio Crasher Micro Wireless Bluetooth Speaker | Bluetooth 2.1 | 10 Hour Battery Life | Water Resistant &amp; Dust Resistant | USB Charging | Blue</td>\n",
       "      <td>also it holds a charge for a good long time.</td>\n",
       "    </tr>\n",
       "  </tbody>\n",
       "</table>\n",
       "</div>"
      ],
      "text/plain": [
       "   cluster  price  \\\n",
       "0        3   9.99   \n",
       "1        3   9.99   \n",
       "2        3   9.99   \n",
       "\n",
       "                                                                                                                                          product_name  \\\n",
       "0  JLab Audio Crasher Micro Wireless Bluetooth Speaker | Bluetooth 2.1 | 10 Hour Battery Life | Water Resistant & Dust Resistant | USB Charging | Blue   \n",
       "1  JLab Audio Crasher Micro Wireless Bluetooth Speaker | Bluetooth 2.1 | 10 Hour Battery Life | Water Resistant & Dust Resistant | USB Charging | Blue   \n",
       "2  JLab Audio Crasher Micro Wireless Bluetooth Speaker | Bluetooth 2.1 | 10 Hour Battery Life | Water Resistant & Dust Resistant | USB Charging | Blue   \n",
       "\n",
       "                                                                            sentence  \n",
       "0                             i've tried a few of these portable bluetooth speakers.  \n",
       "1  this one is the most portable,  easiest to pair up, and the loudest for its size.  \n",
       "2                                       also it holds a charge for a good long time.  "
      ]
     },
     "execution_count": 8,
     "metadata": {},
     "output_type": "execute_result"
    }
   ],
   "source": [
    "# Convert sentences into lowercase\n",
    "rv2['sentence'] = [x.lower() for x in rv2.raw_sentence]\n",
    "rv3 = rv2.drop(columns='raw_sentence')\n",
    "rv3"
   ]
  },
  {
   "cell_type": "markdown",
   "metadata": {},
   "source": [
    "# POS tagging"
   ]
  },
  {
   "cell_type": "code",
   "execution_count": 9,
   "metadata": {},
   "outputs": [],
   "source": [
    "# POS tagging\n",
    "pos = []\n",
    "for sentence in rv3.sentence:\n",
    "    w = word_tokenize(sentence)\n",
    "    pos.append(nltk.pos_tag(w))"
   ]
  },
  {
   "cell_type": "code",
   "execution_count": 10,
   "metadata": {},
   "outputs": [
    {
     "data": {
      "text/plain": [
       "[[('i', 'NN'),\n",
       "  (\"'ve\", 'VBP'),\n",
       "  ('tried', 'VBN'),\n",
       "  ('a', 'DT'),\n",
       "  ('few', 'JJ'),\n",
       "  ('of', 'IN'),\n",
       "  ('these', 'DT'),\n",
       "  ('portable', 'JJ'),\n",
       "  ('bluetooth', 'NN'),\n",
       "  ('speakers', 'NNS'),\n",
       "  ('.', '.')]]"
      ]
     },
     "execution_count": 10,
     "metadata": {},
     "output_type": "execute_result"
    }
   ],
   "source": [
    "pos[:1]"
   ]
  },
  {
   "cell_type": "markdown",
   "metadata": {},
   "source": [
    "# Pairing"
   ]
  },
  {
   "cell_type": "code",
   "execution_count": 11,
   "metadata": {},
   "outputs": [],
   "source": [
    "# Create lists for features and sentiments\n",
    "ft = [[j[0] for j in i if (j[-1]==\"NN\" or j[-1]==\"NNS\" or j[-1]==\"NNP\" or j[-1]==\"NNPS\")] for i in pos]\n",
    "st = [[j[0] for j in i if (j[-1]==\"JJ\" or j[-1]==\"JJR\" or j[-1]==\"JJS\")] for i in pos]"
   ]
  },
  {
   "cell_type": "code",
   "execution_count": 12,
   "metadata": {},
   "outputs": [],
   "source": [
    "# Lemmatize the lists\n",
    "ft1 = []\n",
    "for k in range(len(ft)):\n",
    "    words=ft[k]\n",
    "    WNlemma = nltk.WordNetLemmatizer()\n",
    "    refined_list = [WNlemma.lemmatize(t, pos='n') for t in words]\n",
    "    ft1.append(refined_list)\n",
    "    \n",
    "st1 = []\n",
    "for k in range(len(st)):\n",
    "    words=st[k]\n",
    "    WNlemma = nltk.WordNetLemmatizer()\n",
    "    refined_list = [WNlemma.lemmatize(t, pos='a') for t in words]\n",
    "    st1.append(refined_list)"
   ]
  },
  {
   "cell_type": "code",
   "execution_count": 13,
   "metadata": {},
   "outputs": [
    {
     "name": "stdout",
     "output_type": "stream",
     "text": [
      "[['i', 'bluetooth', 'speakers'], ['size'], ['charge', 'time']]\n",
      "[['i', 'bluetooth', 'speaker'], ['size'], ['charge', 'time']]\n"
     ]
    }
   ],
   "source": [
    "print(ft)\n",
    "print(ft1)"
   ]
  },
  {
   "cell_type": "code",
   "execution_count": 14,
   "metadata": {},
   "outputs": [
    {
     "name": "stdout",
     "output_type": "stream",
     "text": [
      "[['few', 'portable'], ['portable', 'easiest', 'loudest'], ['good', 'long']]\n",
      "[['few', 'portable'], ['portable', 'easy', 'loud'], ['good', 'long']]\n"
     ]
    }
   ],
   "source": [
    "print(st)\n",
    "print(st1)"
   ]
  },
  {
   "cell_type": "code",
   "execution_count": 15,
   "metadata": {},
   "outputs": [
    {
     "name": "stdout",
     "output_type": "stream",
     "text": [
      "3\n"
     ]
    },
    {
     "data": {
      "text/plain": [
       "[['few/i',\n",
       "  'few/bluetooth',\n",
       "  'few/speaker',\n",
       "  'portable/i',\n",
       "  'portable/bluetooth',\n",
       "  'portable/speaker'],\n",
       " ['portable/size', 'easy/size', 'loud/size'],\n",
       " ['good/charge', 'good/time', 'long/charge', 'long/time']]"
      ]
     },
     "execution_count": 15,
     "metadata": {},
     "output_type": "execute_result"
    }
   ],
   "source": [
    "# Create feature-sentiment pairs\n",
    "\n",
    "pairs = []\n",
    "\n",
    "for k in range(len(st1)):\n",
    "    list = [i+\"/\"+str(j) for i in st1[k] for j in ft1[k]]\n",
    "    pairs.append(list)\n",
    "\n",
    "print(len(pairs))\n",
    "pairs"
   ]
  },
  {
   "cell_type": "code",
   "execution_count": null,
   "metadata": {},
   "outputs": [],
   "source": []
  }
 ],
 "metadata": {
  "kernelspec": {
   "display_name": "Python 3",
   "language": "python",
   "name": "python3"
  },
  "language_info": {
   "codemirror_mode": {
    "name": "ipython",
    "version": 3
   },
   "file_extension": ".py",
   "mimetype": "text/x-python",
   "name": "python",
   "nbconvert_exporter": "python",
   "pygments_lexer": "ipython3",
   "version": "3.8.5"
  }
 },
 "nbformat": 4,
 "nbformat_minor": 4
}
